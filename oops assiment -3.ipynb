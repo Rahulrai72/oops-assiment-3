{
 "cells": [
  {
   "cell_type": "code",
   "execution_count": null,
   "id": "d33f7000-1775-48dc-b4cc-9585dfb31409",
   "metadata": {},
   "outputs": [],
   "source": [
    "#Q1, Create a vehicle class with an init method having instance variables as name_of_vehicle, max_speed \n",
    "and average_of_vehicle."
   ]
  },
  {
   "cell_type": "code",
   "execution_count": 1,
   "id": "4894bf7b-dde7-415d-ae78-db57f6730524",
   "metadata": {},
   "outputs": [],
   "source": [
    "# Ans-\n",
    "class Vehicle:\n",
    "    def __init__(self, name_of_vehicle, max_speed, average_of_vehicle):\n",
    "        self.name_of_vehicle = name_of_vehicle\n",
    "        self.max_speed = max_speed\n",
    "        self.average_of_vehicle = average_of_vehicle\n"
   ]
  },
  {
   "cell_type": "code",
   "execution_count": null,
   "id": "cafd64b7-928e-410b-9a1e-5c2a0981d182",
   "metadata": {},
   "outputs": [],
   "source": [
    "# Q2.  Create a child class car from the vehicle class created in Que 1, which will inherit the vehicle class. \n",
    "Create a method named seating_capacity which takes capacity as an argument and returns the name of \n",
    "the vehicle and its seating capacity."
   ]
  },
  {
   "cell_type": "code",
   "execution_count": 2,
   "id": "9c5dc250-4474-465f-aa55-bc15369d966c",
   "metadata": {},
   "outputs": [],
   "source": [
    "class Car(Vehicle):\n",
    "    def seating_capacity(self, capacity):\n",
    "        return f\"{self.name_of_vehicle} has a seating capacity of {capacity} people.\"\n"
   ]
  },
  {
   "cell_type": "code",
   "execution_count": null,
   "id": "323197d7-5afd-4b79-87a9-1b24adf4ea97",
   "metadata": {},
   "outputs": [],
   "source": [
    "# Q3. What is multiple inheritance? Write a python code to demonstrate multiple inheritance."
   ]
  },
  {
   "cell_type": "code",
   "execution_count": 3,
   "id": "29a85be7-f8af-4b2a-9c30-57fd9f418360",
   "metadata": {},
   "outputs": [
    {
     "ename": "IndentationError",
     "evalue": "unexpected indent (3034355246.py, line 2)",
     "output_type": "error",
     "traceback": [
      "\u001b[0;36m  Cell \u001b[0;32mIn[3], line 2\u001b[0;36m\u001b[0m\n\u001b[0;31m    def method_parent1(self):\u001b[0m\n\u001b[0m    ^\u001b[0m\n\u001b[0;31mIndentationError\u001b[0m\u001b[0;31m:\u001b[0m unexpected indent\n"
     ]
    }
   ],
   "source": [
    "\n",
    "    def method_parent1(self):\n",
    "        print(\"Method from Parent1\")\n",
    "\n",
    "class Parent2:\n",
    "    def method_parent2(self):\n",
    "        print(\"Method from Parent2\")\n",
    "\n",
    "class Child(Parent1, Parent2):\n",
    "    def method_child(self):\n",
    "        print(\"Method from Child\")\n",
    "\n",
    "\n",
    "obj = Child()\n",
    "obj.method_parent1()  # Calling method from Parent1\n",
    "obj.method_parent2()  # Calling method from Parent2\n",
    "obj.method_child()    # Calling method from Child\n"
   ]
  },
  {
   "cell_type": "code",
   "execution_count": null,
   "id": "138db303-370d-4319-aeda-14b45f68944f",
   "metadata": {},
   "outputs": [],
   "source": [
    "# Q4. What are getter and setter in python? Create a class and create a getter and a setter method in this \n",
    "class."
   ]
  },
  {
   "cell_type": "code",
   "execution_count": null,
   "id": "143cb344-b229-40ee-a0b3-2c972f3dc887",
   "metadata": {},
   "outputs": [],
   "source": [
    "# Getter and setter methods are used to access and modify the private attributes of a class"
   ]
  },
  {
   "cell_type": "code",
   "execution_count": 4,
   "id": "8ed6b613-91f2-4b28-8f5f-819d03dcdcb4",
   "metadata": {},
   "outputs": [
    {
     "name": "stdout",
     "output_type": "stream",
     "text": [
      "0\n",
      "10\n",
      "Value must be non-negative.\n"
     ]
    }
   ],
   "source": [
    "class Example:\n",
    "    def __init__(self):\n",
    "        self.__value = 0  # Private attribute\n",
    "\n",
    "    def get_value(self):\n",
    "        return self.__value\n",
    "\n",
    "    def set_value(self, new_value):\n",
    "        if new_value >= 0:\n",
    "            self.__value = new_value\n",
    "        else:\n",
    "            print(\"Value must be non-negative.\")\n",
    "\n",
    "# Create an object of the Example class\n",
    "obj = Example()\n",
    "\n",
    "# Using getter to access the value\n",
    "print(obj.get_value())\n",
    "\n",
    "# Using setter to modify the value\n",
    "obj.set_value(10)\n",
    "print(obj.get_value())\n",
    "\n",
    "obj.set_value(-5)  # This will print an error message\n"
   ]
  },
  {
   "cell_type": "code",
   "execution_count": null,
   "id": "4317c5fe-d5fc-4e6c-90bf-eb98b9768bce",
   "metadata": {},
   "outputs": [],
   "source": [
    "#Q5.What is method overriding in python? Write a python code to demonstrate method overriding"
   ]
  },
  {
   "cell_type": "code",
   "execution_count": null,
   "id": "2c4d302d-f279-4736-80b7-d8c9a96bc716",
   "metadata": {},
   "outputs": [],
   "source": [
    "# Method overriding occurs when a subclass provides a specific implementation for a method that is already defined in its parent class."
   ]
  },
  {
   "cell_type": "code",
   "execution_count": 6,
   "id": "7a4190c7-085a-49fc-8ae1-674d69c6ca16",
   "metadata": {},
   "outputs": [
    {
     "name": "stdout",
     "output_type": "stream",
     "text": [
      "This is the Parent class.\n",
      "This is the Child class.\n"
     ]
    }
   ],
   "source": [
    "class Parent:\n",
    "    def show(self):\n",
    "        print(\"This is the Parent class.\")\n",
    "\n",
    "class Child(Parent):\n",
    "    def show(self):\n",
    "        print(\"This is the Child class.\")\n",
    "\n",
    "\n",
    "parent_obj = Parent()\n",
    "child_obj = Child()\n",
    "\n",
    "\n",
    "parent_obj.show()  # Output: This is the Parent class.\n",
    "child_obj.show()   # Output: This is the Child class.\n"
   ]
  },
  {
   "cell_type": "code",
   "execution_count": null,
   "id": "b44bec9d-83bb-47e9-b2d0-9a69504ac6bb",
   "metadata": {},
   "outputs": [],
   "source": []
  }
 ],
 "metadata": {
  "kernelspec": {
   "display_name": "Python 3 (ipykernel)",
   "language": "python",
   "name": "python3"
  },
  "language_info": {
   "codemirror_mode": {
    "name": "ipython",
    "version": 3
   },
   "file_extension": ".py",
   "mimetype": "text/x-python",
   "name": "python",
   "nbconvert_exporter": "python",
   "pygments_lexer": "ipython3",
   "version": "3.10.8"
  }
 },
 "nbformat": 4,
 "nbformat_minor": 5
}
